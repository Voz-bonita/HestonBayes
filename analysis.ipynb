{
 "cells": [
  {
   "cell_type": "code",
   "execution_count": null,
   "id": "1f8a1231",
   "metadata": {},
   "outputs": [],
   "source": [
    "import pandas as pd\n",
    "import numpy as np\n",
    "import os\n",
    "\n",
    "parquet_data = [f\"data/{file}\" for file in os.listdir(\"data\") if file.endswith(\".parquet\")]\n",
    "df_list = []\n",
    "for file in parquet_data:\n",
    "    df = pd.read_parquet(file)\n",
    "    df[\"Ticker\"] = file.split(\"/\")[1].replace(\".parquet\", \"\")\n",
    "    df_list.append(df)\n",
    "\n",
    "df = pd.concat(df_list)"
   ]
  },
  {
   "cell_type": "code",
   "execution_count": null,
   "id": "e83d45be",
   "metadata": {},
   "outputs": [],
   "source": [
    "df[\"Error\"] = df[\"Close\"] - df[\"Prediction\"]\n",
    "df[\"SQE\"] = df[\"Error\"]**2\n",
    "df[\"LogError\"] = np.log(df[\"Close\"]) - np.log(df[\"Prediction\"])\n",
    "df[\"PercentageError\"] = df[\"Prediction\"]/df[\"Close\"] - 1\n",
    "df.groupby(\"Ticker\")[[\"SQE\", \"LogError\", \"PercentageError\"]].mean()"
   ]
  },
  {
   "cell_type": "code",
   "execution_count": 6,
   "id": "c79790ef",
   "metadata": {},
   "outputs": [],
   "source": [
    "from utils import plot_wealth\n",
    "\n",
    "wealth = []\n",
    "tickers = [\n",
    "    \"PETR4.SA\",\n",
    "    \"BBAS3.SA\",\n",
    "    \"ITUB4.SA\",\n",
    "    \"CSMG3.SA\",\n",
    "    \"SAPR11.SA\",\n",
    "    \"CMIG4.SA\",\n",
    "    \"ISAE4.SA\",\n",
    "]\n",
    "\n",
    "for ticker_idx, ticker in enumerate(tickers):\n",
    "    money = [1000]\n",
    "    quotas = [0]\n",
    "    wealth.append([money[0]])\n",
    "\n",
    "    ticker_df = df.query(f\"Ticker == '{ticker}'\")\n",
    "    close_sequence = ticker_df[\"Close\"].to_numpy()\n",
    "    prediction_sequence = ticker_df[\"Prediction\"].to_numpy()\n",
    "\n",
    "    last_buy = float(\"inf\")\n",
    "\n",
    "    for i in range(prediction_sequence.shape[0] - 1):\n",
    "        close = close_sequence[i]\n",
    "        prediction = prediction_sequence[1 + i]\n",
    "        pct_change_pred = prediction / close - 1\n",
    "        last_buy_pct_change = close / last_buy - 1\n",
    "        # print(prediction, close, pct_change_pred, pct_change_pred > 0.01)\n",
    "\n",
    "        if pct_change_pred > 0.01:\n",
    "            quotas.append(quotas[i] + money[i] // close)\n",
    "            money.append(money[i] % close)\n",
    "            last_buy = close\n",
    "\n",
    "        elif pct_change_pred < -0.01:\n",
    "            money.append(money[i] + quotas[i] * close)\n",
    "            quotas.append(0)\n",
    "\n",
    "        else:\n",
    "            money.append(money[i])\n",
    "            quotas.append(quotas[i])\n",
    "\n",
    "        wealth[ticker_idx].append(money[i + 1] + quotas[i + 1] * close)\n",
    "    plot_wealth(\n",
    "        ticker_df[\"Date\"].to_numpy(),\n",
    "        [wealth[ticker_idx]],\n",
    "        [\"Wealth\"],\n",
    "        f\"{ticker}\",\n",
    "        f\"assets/{ticker}_Wealth.png\",\n",
    "    )"
   ]
  },
  {
   "cell_type": "code",
   "execution_count": 9,
   "id": "635de841",
   "metadata": {},
   "outputs": [],
   "source": [
    "general_wealth = np.array(wealth).sum(axis=0)\n",
    "plot_wealth(\n",
    "    ticker_df[\"Date\"].to_numpy(),\n",
    "    [general_wealth],\n",
    "    [\"Wealth\"],\n",
    "    f\"Wealth over time\",\n",
    "    f\"assets/Wealth.png\",\n",
    ")"
   ]
  }
 ],
 "metadata": {
  "kernelspec": {
   "display_name": "venv",
   "language": "python",
   "name": "python3"
  },
  "language_info": {
   "codemirror_mode": {
    "name": "ipython",
    "version": 3
   },
   "file_extension": ".py",
   "mimetype": "text/x-python",
   "name": "python",
   "nbconvert_exporter": "python",
   "pygments_lexer": "ipython3",
   "version": "3.11.3"
  }
 },
 "nbformat": 4,
 "nbformat_minor": 5
}
